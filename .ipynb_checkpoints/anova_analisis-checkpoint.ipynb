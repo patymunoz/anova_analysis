{
 "cells": [
  {
   "cell_type": "markdown",
   "id": "49555104",
   "metadata": {},
   "source": [
    "## Práctica 3. Análisis de la varianza"
   ]
  },
  {
   "cell_type": "markdown",
   "id": "5c081150",
   "metadata": {},
   "source": [
    "### Librerías necesarias"
   ]
  },
  {
   "cell_type": "code",
   "execution_count": 1,
   "id": "d1e76311",
   "metadata": {},
   "outputs": [],
   "source": [
    "import pandas as pd\n",
    "import numpy as np\n",
    "import random\n",
    "import researchpy as rp\n",
    "import statsmodels.api as sm\n",
    "from statsmodels.formula.api import ols\n",
    "import statsmodels.stats.multicomp as mc\n",
    "import matplotlib.pyplot as plt\n",
    "import pingouin as pg\n",
    "import seaborn as sns\n",
    "import os\n",
    "import warnings\n",
    "from datetime import datetime"
   ]
  },
  {
   "cell_type": "code",
   "execution_count": 2,
   "id": "ebdd4f15",
   "metadata": {},
   "outputs": [],
   "source": [
    "warnings.filterwarnings(\"ignore\")"
   ]
  },
  {
   "cell_type": "markdown",
   "id": "32695958",
   "metadata": {},
   "source": [
    "### Importar datos"
   ]
  },
  {
   "cell_type": "code",
   "execution_count": 3,
   "id": "e81b32e8",
   "metadata": {},
   "outputs": [],
   "source": [
    "path = '.\\data\\datos_2021.xlsx'\n",
    "data_AGU = pd.read_excel(path, sheet_name='AGU')\n",
    "data_ATM = pd.read_excel(path, sheet_name='ATM')\n",
    "data_CEN = pd.read_excel(path, sheet_name='CEN')\n",
    "data_PIN = pd.read_excel(path, sheet_name='PIN')\n",
    "data_LDO = pd.read_excel(path, sheet_name='LDO')\n",
    "data_MIR = pd.read_excel(path, sheet_name='MIR')\n",
    "data_OBL = pd.read_excel(path, sheet_name='OBL')\n",
    "data_SFE = pd.read_excel(path, sheet_name='SFE')\n",
    "data_TLA = pd.read_excel(path, sheet_name='TLA')\n",
    "data_VAL = pd.read_excel(path, sheet_name='VAL')"
   ]
  },
  {
   "cell_type": "code",
   "execution_count": 4,
   "id": "6a2e121c",
   "metadata": {},
   "outputs": [],
   "source": [
    "data = pd.concat([data_AGU, data_ATM, data_CEN, data_PIN, data_LDO, data_MIR, data_OBL, data_SFE, data_TLA, data_VAL])"
   ]
  },
  {
   "cell_type": "code",
   "execution_count": 5,
   "id": "e9c21c62",
   "metadata": {},
   "outputs": [],
   "source": [
    "data.rename(columns={'Estación SIMAJ':'estacion_simaj', 'Fecha':'fecha', 'Hora':'hora'}, inplace=True)"
   ]
  },
  {
   "cell_type": "markdown",
   "id": "d445bdc6",
   "metadata": {},
   "source": [
    "### Preparación de datos"
   ]
  },
  {
   "cell_type": "code",
   "execution_count": 6,
   "id": "03913d15",
   "metadata": {},
   "outputs": [],
   "source": [
    "data = data.astype({\n",
    "    'estacion_simaj': 'string',\n",
    "    'hora':'Int64'})"
   ]
  },
  {
   "cell_type": "code",
   "execution_count": 7,
   "id": "68a6f674",
   "metadata": {},
   "outputs": [],
   "source": [
    "data['O3'] = pd.to_numeric(data['O3'],errors='coerce')\n",
    "data['NO'] = pd.to_numeric(data['NO'],errors='coerce')\n",
    "data['NO2'] = pd.to_numeric(data['NO2'],errors='coerce')\n",
    "data['NOX'] = pd.to_numeric(data['NOX'],errors='coerce')\n",
    "data['SO2'] = pd.to_numeric(data['SO2'],errors='coerce')\n",
    "data['CO'] = pd.to_numeric(data['CO'],errors='coerce')\n",
    "data['PM10'] = pd.to_numeric(data['PM10'],errors='coerce')\n",
    "data['PM2.5'] = pd.to_numeric(data['PM2.5'],errors='coerce')\n",
    "data['TMP'] = pd.to_numeric(data['TMP'],errors='coerce')\n",
    "data['TMPI'] = pd.to_numeric(data['TMPI'],errors='coerce')\n",
    "data['RH'] = pd.to_numeric(data['RH'],errors='coerce')\n",
    "data['WS'] = pd.to_numeric(data['WS'],errors='coerce')\n",
    "data['WD'] = pd.to_numeric(data['WD'],errors='coerce')\n",
    "data['PP'] = pd.to_numeric(data['PP'],errors='coerce')\n",
    "data['RS'] = pd.to_numeric(data['RS'],errors='coerce')\n",
    "data['PBA'] = pd.to_numeric(data['PBA'],errors='coerce')\n",
    "data['UV'] = pd.to_numeric(data['UV'],errors='coerce')\n",
    "data['UVI'] = pd.to_numeric(data['UVI'],errors='coerce')"
   ]
  },
  {
   "cell_type": "code",
   "execution_count": 8,
   "id": "659993ca",
   "metadata": {},
   "outputs": [],
   "source": [
    "# Convertir la fecha en el formato de datos \"datetime\"\n",
    "data['d_date'] = pd.to_datetime(data['fecha'], errors='coerce')"
   ]
  },
  {
   "cell_type": "code",
   "execution_count": 9,
   "id": "9e90b485",
   "metadata": {},
   "outputs": [],
   "source": [
    "# Extraer el año, mes y día desde el \"datetime\"\n",
    "data['anio'] = data.d_date.map(lambda x: x.year)\n",
    "data['mes'] = data.d_date.map(lambda x: x.month)\n",
    "data['dia'] = data.d_date.map(lambda x: x.day)"
   ]
  },
  {
   "cell_type": "code",
   "execution_count": 10,
   "id": "1ab27931",
   "metadata": {},
   "outputs": [],
   "source": [
    "# Convertir el día en valor de día semanal\n",
    "data['dia_semana'] = data['d_date'].dt.dayofweek"
   ]
  },
  {
   "cell_type": "code",
   "execution_count": 15,
   "id": "cd282d48",
   "metadata": {},
   "outputs": [],
   "source": [
    "#Reemplazar valores numéricos por valores en cadena\n",
    "data['dia_semana'].replace({'0.0':'Lunes', '1.0':'Martes', '2.0':'Miercoles', '3.0':'Jueves', '4.0':'Viernes', '5.0':'Sabado', '6.0':'Domingo'},\n",
    "                          inplace=True)"
   ]
  },
  {
   "cell_type": "code",
   "execution_count": 17,
   "id": "610e4a71",
   "metadata": {},
   "outputs": [],
   "source": [
    "#Converir el data.type apropiado de acuerdo con la variable\n",
    "data = data.astype({\n",
    "    'anio': 'Int64',\n",
    "    'mes':'Int64',\n",
    "    'dia':'Int64',\n",
    "    'dia_semana':'string'\n",
    "})"
   ]
  },
  {
   "cell_type": "markdown",
   "id": "66e8c69a",
   "metadata": {},
   "source": [
    "### Análisis exploratorio de los datos"
   ]
  },
  {
   "cell_type": "code",
   "execution_count": 18,
   "id": "4ee66bcd",
   "metadata": {
    "scrolled": true
   },
   "outputs": [
    {
     "name": "stdout",
     "output_type": "stream",
     "text": [
      "<class 'pandas.core.frame.DataFrame'>\n",
      "Int64Index: 87600 entries, 0 to 8759\n",
      "Data columns (total 26 columns):\n",
      " #   Column          Non-Null Count  Dtype         \n",
      "---  ------          --------------  -----         \n",
      " 0   estacion_simaj  87600 non-null  string        \n",
      " 1   fecha           87600 non-null  object        \n",
      " 2   hora            87600 non-null  Int64         \n",
      " 3   O3              60121 non-null  float64       \n",
      " 4   NO              33072 non-null  float64       \n",
      " 5   NO2             33432 non-null  float64       \n",
      " 6   NOX             33432 non-null  float64       \n",
      " 7   SO2             52606 non-null  float64       \n",
      " 8   CO              56928 non-null  float64       \n",
      " 9   PM10            50684 non-null  float64       \n",
      " 10  PM2.5           21214 non-null  float64       \n",
      " 11  TMPI            74351 non-null  float64       \n",
      " 12  TMP             52512 non-null  float64       \n",
      " 13  RH              73296 non-null  float64       \n",
      " 14  WS              71640 non-null  float64       \n",
      " 15  WD              62206 non-null  float64       \n",
      " 16  PP              68702 non-null  float64       \n",
      " 17  RS              24696 non-null  float64       \n",
      " 18  PBA             39864 non-null  float64       \n",
      " 19  UV              3215 non-null   float64       \n",
      " 20  UVI             8376 non-null   float64       \n",
      " 21  d_date          78840 non-null  datetime64[ns]\n",
      " 22  anio            78840 non-null  Int64         \n",
      " 23  mes             78840 non-null  Int64         \n",
      " 24  dia             78840 non-null  Int64         \n",
      " 25  dia_semana      78840 non-null  string        \n",
      "dtypes: Int64(4), datetime64[ns](1), float64(18), object(1), string(2)\n",
      "memory usage: 18.4+ MB\n"
     ]
    }
   ],
   "source": [
    "data.info()"
   ]
  },
  {
   "cell_type": "code",
   "execution_count": 20,
   "id": "5ca39312",
   "metadata": {},
   "outputs": [
    {
     "data": {
      "text/html": [
       "<div>\n",
       "<style scoped>\n",
       "    .dataframe tbody tr th:only-of-type {\n",
       "        vertical-align: middle;\n",
       "    }\n",
       "\n",
       "    .dataframe tbody tr th {\n",
       "        vertical-align: top;\n",
       "    }\n",
       "\n",
       "    .dataframe thead th {\n",
       "        text-align: right;\n",
       "    }\n",
       "</style>\n",
       "<table border=\"1\" class=\"dataframe\">\n",
       "  <thead>\n",
       "    <tr style=\"text-align: right;\">\n",
       "      <th></th>\n",
       "      <th>estacion_simaj</th>\n",
       "      <th>fecha</th>\n",
       "      <th>hora</th>\n",
       "      <th>O3</th>\n",
       "      <th>NO</th>\n",
       "      <th>NO2</th>\n",
       "      <th>NOX</th>\n",
       "      <th>SO2</th>\n",
       "      <th>CO</th>\n",
       "      <th>PM10</th>\n",
       "      <th>...</th>\n",
       "      <th>PP</th>\n",
       "      <th>RS</th>\n",
       "      <th>PBA</th>\n",
       "      <th>UV</th>\n",
       "      <th>UVI</th>\n",
       "      <th>d_date</th>\n",
       "      <th>anio</th>\n",
       "      <th>mes</th>\n",
       "      <th>dia</th>\n",
       "      <th>dia_semana</th>\n",
       "    </tr>\n",
       "  </thead>\n",
       "  <tbody>\n",
       "    <tr>\n",
       "      <th>0</th>\n",
       "      <td>Aguilas</td>\n",
       "      <td>2021-01-01 00:00:00</td>\n",
       "      <td>0</td>\n",
       "      <td>0.004</td>\n",
       "      <td>NaN</td>\n",
       "      <td>NaN</td>\n",
       "      <td>NaN</td>\n",
       "      <td>0.0016</td>\n",
       "      <td>1.528</td>\n",
       "      <td>NaN</td>\n",
       "      <td>...</td>\n",
       "      <td>0.0</td>\n",
       "      <td>NaN</td>\n",
       "      <td>NaN</td>\n",
       "      <td>NaN</td>\n",
       "      <td>NaN</td>\n",
       "      <td>2021-01-01 00:00:00</td>\n",
       "      <td>2021</td>\n",
       "      <td>1</td>\n",
       "      <td>1</td>\n",
       "      <td>Viernes</td>\n",
       "    </tr>\n",
       "    <tr>\n",
       "      <th>1</th>\n",
       "      <td>Aguilas</td>\n",
       "      <td>2021-01-01 01:00:00</td>\n",
       "      <td>1</td>\n",
       "      <td>0.003</td>\n",
       "      <td>NaN</td>\n",
       "      <td>NaN</td>\n",
       "      <td>NaN</td>\n",
       "      <td>0.0000</td>\n",
       "      <td>0.000</td>\n",
       "      <td>NaN</td>\n",
       "      <td>...</td>\n",
       "      <td>0.0</td>\n",
       "      <td>NaN</td>\n",
       "      <td>NaN</td>\n",
       "      <td>NaN</td>\n",
       "      <td>NaN</td>\n",
       "      <td>2021-01-01 01:00:00</td>\n",
       "      <td>2021</td>\n",
       "      <td>1</td>\n",
       "      <td>1</td>\n",
       "      <td>Viernes</td>\n",
       "    </tr>\n",
       "    <tr>\n",
       "      <th>2</th>\n",
       "      <td>Aguilas</td>\n",
       "      <td>2021-01-01 02:00:00</td>\n",
       "      <td>2</td>\n",
       "      <td>0.000</td>\n",
       "      <td>NaN</td>\n",
       "      <td>NaN</td>\n",
       "      <td>NaN</td>\n",
       "      <td>0.0029</td>\n",
       "      <td>1.683</td>\n",
       "      <td>NaN</td>\n",
       "      <td>...</td>\n",
       "      <td>0.0</td>\n",
       "      <td>NaN</td>\n",
       "      <td>NaN</td>\n",
       "      <td>NaN</td>\n",
       "      <td>NaN</td>\n",
       "      <td>2021-01-01 02:00:00</td>\n",
       "      <td>2021</td>\n",
       "      <td>1</td>\n",
       "      <td>1</td>\n",
       "      <td>Viernes</td>\n",
       "    </tr>\n",
       "    <tr>\n",
       "      <th>3</th>\n",
       "      <td>Aguilas</td>\n",
       "      <td>2021-01-01 03:00:00</td>\n",
       "      <td>3</td>\n",
       "      <td>0.000</td>\n",
       "      <td>NaN</td>\n",
       "      <td>NaN</td>\n",
       "      <td>NaN</td>\n",
       "      <td>0.0021</td>\n",
       "      <td>1.387</td>\n",
       "      <td>NaN</td>\n",
       "      <td>...</td>\n",
       "      <td>0.0</td>\n",
       "      <td>NaN</td>\n",
       "      <td>NaN</td>\n",
       "      <td>NaN</td>\n",
       "      <td>NaN</td>\n",
       "      <td>2021-01-01 03:00:00</td>\n",
       "      <td>2021</td>\n",
       "      <td>1</td>\n",
       "      <td>1</td>\n",
       "      <td>Viernes</td>\n",
       "    </tr>\n",
       "    <tr>\n",
       "      <th>4</th>\n",
       "      <td>Aguilas</td>\n",
       "      <td>2021-01-01 04:00:00</td>\n",
       "      <td>4</td>\n",
       "      <td>0.002</td>\n",
       "      <td>NaN</td>\n",
       "      <td>NaN</td>\n",
       "      <td>NaN</td>\n",
       "      <td>0.0025</td>\n",
       "      <td>1.207</td>\n",
       "      <td>NaN</td>\n",
       "      <td>...</td>\n",
       "      <td>0.0</td>\n",
       "      <td>NaN</td>\n",
       "      <td>NaN</td>\n",
       "      <td>NaN</td>\n",
       "      <td>NaN</td>\n",
       "      <td>2021-01-01 04:00:00</td>\n",
       "      <td>2021</td>\n",
       "      <td>1</td>\n",
       "      <td>1</td>\n",
       "      <td>Viernes</td>\n",
       "    </tr>\n",
       "  </tbody>\n",
       "</table>\n",
       "<p>5 rows × 26 columns</p>\n",
       "</div>"
      ],
      "text/plain": [
       "  estacion_simaj                fecha  hora     O3  NO  NO2  NOX     SO2  \\\n",
       "0        Aguilas  2021-01-01 00:00:00     0  0.004 NaN  NaN  NaN  0.0016   \n",
       "1        Aguilas  2021-01-01 01:00:00     1  0.003 NaN  NaN  NaN  0.0000   \n",
       "2        Aguilas  2021-01-01 02:00:00     2  0.000 NaN  NaN  NaN  0.0029   \n",
       "3        Aguilas  2021-01-01 03:00:00     3  0.000 NaN  NaN  NaN  0.0021   \n",
       "4        Aguilas  2021-01-01 04:00:00     4  0.002 NaN  NaN  NaN  0.0025   \n",
       "\n",
       "      CO  PM10  ...   PP  RS  PBA  UV  UVI              d_date  anio  mes  \\\n",
       "0  1.528   NaN  ...  0.0 NaN  NaN NaN  NaN 2021-01-01 00:00:00  2021    1   \n",
       "1  0.000   NaN  ...  0.0 NaN  NaN NaN  NaN 2021-01-01 01:00:00  2021    1   \n",
       "2  1.683   NaN  ...  0.0 NaN  NaN NaN  NaN 2021-01-01 02:00:00  2021    1   \n",
       "3  1.387   NaN  ...  0.0 NaN  NaN NaN  NaN 2021-01-01 03:00:00  2021    1   \n",
       "4  1.207   NaN  ...  0.0 NaN  NaN NaN  NaN 2021-01-01 04:00:00  2021    1   \n",
       "\n",
       "   dia  dia_semana  \n",
       "0    1     Viernes  \n",
       "1    1     Viernes  \n",
       "2    1     Viernes  \n",
       "3    1     Viernes  \n",
       "4    1     Viernes  \n",
       "\n",
       "[5 rows x 26 columns]"
      ]
     },
     "execution_count": 20,
     "metadata": {},
     "output_type": "execute_result"
    }
   ],
   "source": [
    "data.head(5)"
   ]
  },
  {
   "cell_type": "markdown",
   "id": "1b80432d",
   "metadata": {},
   "source": [
    "### Crear dataset de muestra"
   ]
  },
  {
   "cell_type": "code",
   "execution_count": 10,
   "id": "ef3b3778",
   "metadata": {},
   "outputs": [],
   "source": [
    "sample_data = data[['estacion_simaj', 'dia_semana', 'mes', 'hora','TMP']]"
   ]
  },
  {
   "cell_type": "code",
   "execution_count": 11,
   "id": "a4ed0305",
   "metadata": {},
   "outputs": [],
   "source": [
    "sample_data = sample_data.dropna().reset_index(drop=True)"
   ]
  },
  {
   "cell_type": "code",
   "execution_count": 12,
   "id": "f4f044e2",
   "metadata": {},
   "outputs": [],
   "source": [
    "sample_data = sample_data[sample_data['TMP'] !=0]"
   ]
  },
  {
   "cell_type": "code",
   "execution_count": 13,
   "id": "ad396a70",
   "metadata": {},
   "outputs": [
    {
     "data": {
      "text/plain": [
       "(array([0, 1, 2, 3, 4, 5, 6, 7]),\n",
       " [Text(0, 0, 'Aguilas'),\n",
       "  Text(1, 0, 'Atemajac'),\n",
       "  Text(2, 0, 'Centro'),\n",
       "  Text(3, 0, 'Las Pintas'),\n",
       "  Text(4, 0, 'Miravalle'),\n",
       "  Text(5, 0, 'Oblatos'),\n",
       "  Text(6, 0, 'Santa Fe'),\n",
       "  Text(7, 0, 'Vallarta')])"
      ]
     },
     "execution_count": 13,
     "metadata": {},
     "output_type": "execute_result"
    },
    {
     "data": {
      "image/png": "[encoded data removed]",
      "text/plain": [
       "<Figure size 640x480 with 1 Axes>"
      ]
     },
     "metadata": {},
     "output_type": "display_data"
    }
   ],
   "source": [
    "cplot = sns.countplot(x=sample_data[\"estacion_simaj\"])\n",
    "plt.xticks(rotation=90)"
   ]
  },
  {
   "cell_type": "code",
   "execution_count": 15,
   "id": "8e5e1888",
   "metadata": {},
   "outputs": [],
   "source": [
    "sample_AGU=sample_data[sample_data['estacion_simaj'] == 'Aguilas'].sample(100)\n",
    "sample_ATM=sample_data[sample_data['estacion_simaj'] == 'Atemajac'].sample(100)\n",
    "sample_CEN=sample_data[sample_data['estacion_simaj'] == 'Centro'].sample(100)\n",
    "sample_PIN=sample_data[sample_data['estacion_simaj'] == 'Las Pintas'].sample(100)\n",
    "#sample_LDO=sample_data[sample_data['estacion_simaj'] == 'Loma Dorada'].sample(100)\n",
    "sample_MIR=sample_data[sample_data['estacion_simaj'] == 'Miravalle'].sample(100)\n",
    "sample_OBL=sample_data[sample_data['estacion_simaj'] == 'Oblatos'].sample(100)\n",
    "sample_SFE=sample_data[sample_data['estacion_simaj'] == 'Santa Fe'].sample(100)\n",
    "#sample_TLA=sample_data[sample_data['estacion_simaj'] == 'Tlaquepaque'].sample(100)\n",
    "sample_VAL=sample_data[sample_data['estacion_simaj'] == 'Vallarta'].sample(100)"
   ]
  },
  {
   "cell_type": "code",
   "execution_count": 16,
   "id": "23007e68",
   "metadata": {},
   "outputs": [],
   "source": [
    "sample = pd.concat([sample_AGU, sample_ATM, sample_CEN, sample_PIN,sample_MIR,sample_OBL,sample_SFE,sample_VAL])"
   ]
  },
  {
   "cell_type": "code",
   "execution_count": 17,
   "id": "3bef82ca",
   "metadata": {
    "scrolled": true
   },
   "outputs": [
    {
     "data": {
      "text/plain": [
       "(array([0, 1, 2, 3, 4, 5, 6, 7]),\n",
       " [Text(0, 0, 'Aguilas'),\n",
       "  Text(1, 0, 'Atemajac'),\n",
       "  Text(2, 0, 'Centro'),\n",
       "  Text(3, 0, 'Las Pintas'),\n",
       "  Text(4, 0, 'Miravalle'),\n",
       "  Text(5, 0, 'Oblatos'),\n",
       "  Text(6, 0, 'Santa Fe'),\n",
       "  Text(7, 0, 'Vallarta')])"
      ]
     },
     "execution_count": 17,
     "metadata": {},
     "output_type": "execute_result"
    },
    {
     "data": {
      "image/png": "[encoded data removed]",
      "text/plain": [
       "<Figure size 640x480 with 1 Axes>"
      ]
     },
     "metadata": {},
     "output_type": "display_data"
    }
   ],
   "source": [
    "cplot = sns.countplot(x=sample[\"estacion_simaj\"])\n",
    "plt.xticks(rotation=90)"
   ]
  },
  {
   "cell_type": "code",
   "execution_count": 18,
   "id": "b9dff223",
   "metadata": {},
   "outputs": [
    {
     "name": "stdout",
     "output_type": "stream",
     "text": [
      "\n",
      "\n"
     ]
    },
    {
     "data": {
      "text/plain": [
       "<AxesSubplot: title={'center': 'TMP'}, xlabel='estacion_simaj'>"
      ]
     },
     "execution_count": 18,
     "metadata": {},
     "output_type": "execute_result"
    },
    {
     "data": {
      "image/png": "[encoded data removed]",
      "text/plain": [
       "<Figure size 640x480 with 1 Axes>"
      ]
     },
     "metadata": {},
     "output_type": "display_data"
    }
   ],
   "source": [
    "groups = sample.groupby('estacion_simaj').count().reset_index()\n",
    "res=rp.summary_cont(sample['TMP'].groupby(sample['estacion_simaj']))\n",
    "sample.boxplot('TMP',by='estacion_simaj',rot=90)"
   ]
  },
  {
   "cell_type": "markdown",
   "id": "5d198947",
   "metadata": {},
   "source": [
    "# Supuestos"
   ]
  },
  {
   "cell_type": "markdown",
   "id": "3ef987f1",
   "metadata": {},
   "source": [
    "### a) Normalidad"
   ]
  },
  {
   "cell_type": "code",
   "execution_count": 19,
   "id": "9e7aad05",
   "metadata": {},
   "outputs": [
    {
     "data": {
      "text/html": [
       "<div>\n",
       "<style scoped>\n",
       "    .dataframe tbody tr th:only-of-type {\n",
       "        vertical-align: middle;\n",
       "    }\n",
       "\n",
       "    .dataframe tbody tr th {\n",
       "        vertical-align: top;\n",
       "    }\n",
       "\n",
       "    .dataframe thead th {\n",
       "        text-align: right;\n",
       "    }\n",
       "</style>\n",
       "<table border=\"1\" class=\"dataframe\">\n",
       "  <thead>\n",
       "    <tr style=\"text-align: right;\">\n",
       "      <th></th>\n",
       "      <th>W</th>\n",
       "      <th>pval</th>\n",
       "      <th>normal</th>\n",
       "    </tr>\n",
       "  </thead>\n",
       "  <tbody>\n",
       "    <tr>\n",
       "      <th>Aguilas</th>\n",
       "      <td>0.980611</td>\n",
       "      <td>0.148282</td>\n",
       "      <td>True</td>\n",
       "    </tr>\n",
       "    <tr>\n",
       "      <th>Atemajac</th>\n",
       "      <td>0.901242</td>\n",
       "      <td>0.000002</td>\n",
       "      <td>False</td>\n",
       "    </tr>\n",
       "    <tr>\n",
       "      <th>Centro</th>\n",
       "      <td>0.980856</td>\n",
       "      <td>0.154920</td>\n",
       "      <td>True</td>\n",
       "    </tr>\n",
       "    <tr>\n",
       "      <th>Las Pintas</th>\n",
       "      <td>0.975705</td>\n",
       "      <td>0.061274</td>\n",
       "      <td>True</td>\n",
       "    </tr>\n",
       "    <tr>\n",
       "      <th>Miravalle</th>\n",
       "      <td>0.981546</td>\n",
       "      <td>0.175110</td>\n",
       "      <td>True</td>\n",
       "    </tr>\n",
       "    <tr>\n",
       "      <th>Oblatos</th>\n",
       "      <td>0.980314</td>\n",
       "      <td>0.140613</td>\n",
       "      <td>True</td>\n",
       "    </tr>\n",
       "    <tr>\n",
       "      <th>Santa Fe</th>\n",
       "      <td>0.989804</td>\n",
       "      <td>0.648725</td>\n",
       "      <td>True</td>\n",
       "    </tr>\n",
       "    <tr>\n",
       "      <th>Vallarta</th>\n",
       "      <td>0.983366</td>\n",
       "      <td>0.240773</td>\n",
       "      <td>True</td>\n",
       "    </tr>\n",
       "  </tbody>\n",
       "</table>\n",
       "</div>"
      ],
      "text/plain": [
       "                   W      pval  normal\n",
       "Aguilas     0.980611  0.148282    True\n",
       "Atemajac    0.901242  0.000002   False\n",
       "Centro      0.980856  0.154920    True\n",
       "Las Pintas  0.975705  0.061274    True\n",
       "Miravalle   0.981546  0.175110    True\n",
       "Oblatos     0.980314  0.140613    True\n",
       "Santa Fe    0.989804  0.648725    True\n",
       "Vallarta    0.983366  0.240773    True"
      ]
     },
     "execution_count": 19,
     "metadata": {},
     "output_type": "execute_result"
    }
   ],
   "source": [
    "# Normalidad prueba de Shapiro-Wilk\n",
    "\n",
    "#Ho:Normalidad(p>0.05)\n",
    "#H1: No normalidad (p<0.05)\n",
    "\n",
    "#Normalidad en las variables\n",
    "pg.normality(sample, dv='TMP', group='estacion_simaj')"
   ]
  },
  {
   "cell_type": "code",
   "execution_count": 21,
   "id": "5135926d",
   "metadata": {},
   "outputs": [
    {
     "data": {
      "text/plain": [
       "estacion_simaj\n",
       "Aguilas       26.112428\n",
       "Atemajac      11.039871\n",
       "Centro        18.337588\n",
       "Las Pintas    33.449859\n",
       "Miravalle     22.732261\n",
       "Oblatos       25.685866\n",
       "Santa Fe      41.732227\n",
       "Vallarta      19.301766\n",
       "Name: TMP, dtype: float64"
      ]
     },
     "execution_count": 21,
     "metadata": {},
     "output_type": "execute_result"
    }
   ],
   "source": [
    "# Varianza entre grupos\n",
    "sample_data.groupby('estacion_simaj')['TMP'].var()"
   ]
  },
  {
   "cell_type": "markdown",
   "id": "4ae64a32",
   "metadata": {},
   "source": [
    "### Homocedasticidad"
   ]
  },
  {
   "cell_type": "code",
   "execution_count": 22,
   "id": "e9d7d130",
   "metadata": {},
   "outputs": [
    {
     "data": {
      "text/html": [
       "<div>\n",
       "<style scoped>\n",
       "    .dataframe tbody tr th:only-of-type {\n",
       "        vertical-align: middle;\n",
       "    }\n",
       "\n",
       "    .dataframe tbody tr th {\n",
       "        vertical-align: top;\n",
       "    }\n",
       "\n",
       "    .dataframe thead th {\n",
       "        text-align: right;\n",
       "    }\n",
       "</style>\n",
       "<table border=\"1\" class=\"dataframe\">\n",
       "  <thead>\n",
       "    <tr style=\"text-align: right;\">\n",
       "      <th></th>\n",
       "      <th>W</th>\n",
       "      <th>pval</th>\n",
       "      <th>equal_var</th>\n",
       "    </tr>\n",
       "  </thead>\n",
       "  <tbody>\n",
       "    <tr>\n",
       "      <th>levene</th>\n",
       "      <td>296.24157</td>\n",
       "      <td>0.0</td>\n",
       "      <td>False</td>\n",
       "    </tr>\n",
       "  </tbody>\n",
       "</table>\n",
       "</div>"
      ],
      "text/plain": [
       "                W  pval  equal_var\n",
       "levene  296.24157   0.0      False"
      ]
     },
     "execution_count": 22,
     "metadata": {},
     "output_type": "execute_result"
    }
   ],
   "source": [
    "#Homocedasticidad prueba de Levene (sin normalidad)\n",
    "#Ho:Homocedasticidad (p>0.05)\n",
    "#H1: No Homocedasticidad (p<0.05)\n",
    "pg.homoscedasticity(sample_data, dv='TMP', \n",
    "                    group='estacion_simaj',method='levene')"
   ]
  },
  {
   "cell_type": "code",
   "execution_count": 23,
   "id": "22503902",
   "metadata": {},
   "outputs": [
    {
     "data": {
      "text/html": [
       "<div>\n",
       "<style scoped>\n",
       "    .dataframe tbody tr th:only-of-type {\n",
       "        vertical-align: middle;\n",
       "    }\n",
       "\n",
       "    .dataframe tbody tr th {\n",
       "        vertical-align: top;\n",
       "    }\n",
       "\n",
       "    .dataframe thead th {\n",
       "        text-align: right;\n",
       "    }\n",
       "</style>\n",
       "<table border=\"1\" class=\"dataframe\">\n",
       "  <thead>\n",
       "    <tr style=\"text-align: right;\">\n",
       "      <th></th>\n",
       "      <th>T</th>\n",
       "      <th>pval</th>\n",
       "      <th>equal_var</th>\n",
       "    </tr>\n",
       "  </thead>\n",
       "  <tbody>\n",
       "    <tr>\n",
       "      <th>bartlett</th>\n",
       "      <td>1959.345589</td>\n",
       "      <td>0.0</td>\n",
       "      <td>False</td>\n",
       "    </tr>\n",
       "  </tbody>\n",
       "</table>\n",
       "</div>"
      ],
      "text/plain": [
       "                    T  pval  equal_var\n",
       "bartlett  1959.345589   0.0      False"
      ]
     },
     "execution_count": 23,
     "metadata": {},
     "output_type": "execute_result"
    }
   ],
   "source": [
    "#Homocedasticidad prueba de Bartlett (con normalidad)\n",
    "#Ho:Homocedasticidad (p>0.05)\n",
    "#H1: No Homocedasticidad (p<0.05)\n",
    "pg.homoscedasticity(sample_data, dv='TMP', \n",
    "                    group='estacion_simaj',method='bartlett')"
   ]
  },
  {
   "cell_type": "code",
   "execution_count": 24,
   "id": "351ad66e",
   "metadata": {},
   "outputs": [],
   "source": [
    "sample_data.rename(columns={'TMP':'temperatura'}, inplace=True)"
   ]
  },
  {
   "cell_type": "markdown",
   "id": "e0202c0c",
   "metadata": {},
   "source": [
    "### Prueba one-way ANOVA"
   ]
  },
  {
   "cell_type": "code",
   "execution_count": 25,
   "id": "4b1a7303",
   "metadata": {
    "collapsed": true
   },
   "outputs": [
    {
     "ename": "TypeError",
     "evalue": "Cannot interpret 'string[python]' as a data type",
     "output_type": "error",
     "traceback": [
      "\u001b[1;31m---------------------------------------------------------------------------\u001b[0m",
      "\u001b[1;31mTypeError\u001b[0m                                 Traceback (most recent call last)",
      "Cell \u001b[1;32mIn [25], line 2\u001b[0m\n\u001b[0;32m      1\u001b[0m \u001b[38;5;66;03m#%% One way ANOVA\u001b[39;00m\n\u001b[1;32m----> 2\u001b[0m model \u001b[38;5;241m=\u001b[39m \u001b[43mols\u001b[49m\u001b[43m(\u001b[49m\u001b[38;5;124;43m'\u001b[39;49m\u001b[38;5;124;43mtemperatura ~ estacion_simaj\u001b[39;49m\u001b[38;5;124;43m'\u001b[39;49m\u001b[43m,\u001b[49m\u001b[43m \u001b[49m\u001b[43mdata\u001b[49m\u001b[38;5;241;43m=\u001b[39;49m\u001b[43msample_data\u001b[49m\u001b[43m)\u001b[49m\u001b[38;5;241m.\u001b[39mfit()\n\u001b[0;32m      3\u001b[0m \u001b[38;5;66;03m#anova_table = sm.stats.anova_lm(model,typ=2)\u001b[39;00m\n\u001b[0;32m      4\u001b[0m \u001b[38;5;66;03m#print(anova_table)\u001b[39;00m\n",
      "File \u001b[1;32m~\\miniconda3\\lib\\site-packages\\statsmodels\\base\\model.py:200\u001b[0m, in \u001b[0;36mModel.from_formula\u001b[1;34m(cls, formula, data, subset, drop_cols, *args, **kwargs)\u001b[0m\n\u001b[0;32m    197\u001b[0m \u001b[38;5;28;01mif\u001b[39;00m missing \u001b[38;5;241m==\u001b[39m \u001b[38;5;124m'\u001b[39m\u001b[38;5;124mnone\u001b[39m\u001b[38;5;124m'\u001b[39m:  \u001b[38;5;66;03m# with patsy it's drop or raise. let's raise.\u001b[39;00m\n\u001b[0;32m    198\u001b[0m     missing \u001b[38;5;241m=\u001b[39m \u001b[38;5;124m'\u001b[39m\u001b[38;5;124mraise\u001b[39m\u001b[38;5;124m'\u001b[39m\n\u001b[1;32m--> 200\u001b[0m tmp \u001b[38;5;241m=\u001b[39m \u001b[43mhandle_formula_data\u001b[49m\u001b[43m(\u001b[49m\u001b[43mdata\u001b[49m\u001b[43m,\u001b[49m\u001b[43m \u001b[49m\u001b[38;5;28;43;01mNone\u001b[39;49;00m\u001b[43m,\u001b[49m\u001b[43m \u001b[49m\u001b[43mformula\u001b[49m\u001b[43m,\u001b[49m\u001b[43m \u001b[49m\u001b[43mdepth\u001b[49m\u001b[38;5;241;43m=\u001b[39;49m\u001b[43meval_env\u001b[49m\u001b[43m,\u001b[49m\n\u001b[0;32m    201\u001b[0m \u001b[43m                          \u001b[49m\u001b[43mmissing\u001b[49m\u001b[38;5;241;43m=\u001b[39;49m\u001b[43mmissing\u001b[49m\u001b[43m)\u001b[49m\n\u001b[0;32m    202\u001b[0m ((endog, exog), missing_idx, design_info) \u001b[38;5;241m=\u001b[39m tmp\n\u001b[0;32m    203\u001b[0m max_endog \u001b[38;5;241m=\u001b[39m \u001b[38;5;28mcls\u001b[39m\u001b[38;5;241m.\u001b[39m_formula_max_endog\n",
      "File \u001b[1;32m~\\miniconda3\\lib\\site-packages\\statsmodels\\formula\\formulatools.py:63\u001b[0m, in \u001b[0;36mhandle_formula_data\u001b[1;34m(Y, X, formula, depth, missing)\u001b[0m\n\u001b[0;32m     61\u001b[0m \u001b[38;5;28;01melse\u001b[39;00m:\n\u001b[0;32m     62\u001b[0m     \u001b[38;5;28;01mif\u001b[39;00m data_util\u001b[38;5;241m.\u001b[39m_is_using_pandas(Y, \u001b[38;5;28;01mNone\u001b[39;00m):\n\u001b[1;32m---> 63\u001b[0m         result \u001b[38;5;241m=\u001b[39m \u001b[43mdmatrices\u001b[49m\u001b[43m(\u001b[49m\u001b[43mformula\u001b[49m\u001b[43m,\u001b[49m\u001b[43m \u001b[49m\u001b[43mY\u001b[49m\u001b[43m,\u001b[49m\u001b[43m \u001b[49m\u001b[43mdepth\u001b[49m\u001b[43m,\u001b[49m\u001b[43m \u001b[49m\u001b[43mreturn_type\u001b[49m\u001b[38;5;241;43m=\u001b[39;49m\u001b[38;5;124;43m'\u001b[39;49m\u001b[38;5;124;43mdataframe\u001b[39;49m\u001b[38;5;124;43m'\u001b[39;49m\u001b[43m,\u001b[49m\n\u001b[0;32m     64\u001b[0m \u001b[43m                           \u001b[49m\u001b[43mNA_action\u001b[49m\u001b[38;5;241;43m=\u001b[39;49m\u001b[43mna_action\u001b[49m\u001b[43m)\u001b[49m\n\u001b[0;32m     65\u001b[0m     \u001b[38;5;28;01melse\u001b[39;00m:\n\u001b[0;32m     66\u001b[0m         result \u001b[38;5;241m=\u001b[39m dmatrices(formula, Y, depth, return_type\u001b[38;5;241m=\u001b[39m\u001b[38;5;124m'\u001b[39m\u001b[38;5;124mdataframe\u001b[39m\u001b[38;5;124m'\u001b[39m,\n\u001b[0;32m     67\u001b[0m                            NA_action\u001b[38;5;241m=\u001b[39mna_action)\n",
      "File \u001b[1;32m~\\miniconda3\\lib\\site-packages\\patsy\\highlevel.py:309\u001b[0m, in \u001b[0;36mdmatrices\u001b[1;34m(formula_like, data, eval_env, NA_action, return_type)\u001b[0m\n\u001b[0;32m    299\u001b[0m \u001b[38;5;124;03m\"\"\"Construct two design matrices given a formula_like and data.\u001b[39;00m\n\u001b[0;32m    300\u001b[0m \n\u001b[0;32m    301\u001b[0m \u001b[38;5;124;03mThis function is identical to :func:`dmatrix`, except that it requires\u001b[39;00m\n\u001b[1;32m   (...)\u001b[0m\n\u001b[0;32m    306\u001b[0m \u001b[38;5;124;03mSee :func:`dmatrix` for details.\u001b[39;00m\n\u001b[0;32m    307\u001b[0m \u001b[38;5;124;03m\"\"\"\u001b[39;00m\n\u001b[0;32m    308\u001b[0m eval_env \u001b[38;5;241m=\u001b[39m EvalEnvironment\u001b[38;5;241m.\u001b[39mcapture(eval_env, reference\u001b[38;5;241m=\u001b[39m\u001b[38;5;241m1\u001b[39m)\n\u001b[1;32m--> 309\u001b[0m (lhs, rhs) \u001b[38;5;241m=\u001b[39m \u001b[43m_do_highlevel_design\u001b[49m\u001b[43m(\u001b[49m\u001b[43mformula_like\u001b[49m\u001b[43m,\u001b[49m\u001b[43m \u001b[49m\u001b[43mdata\u001b[49m\u001b[43m,\u001b[49m\u001b[43m \u001b[49m\u001b[43meval_env\u001b[49m\u001b[43m,\u001b[49m\n\u001b[0;32m    310\u001b[0m \u001b[43m                                  \u001b[49m\u001b[43mNA_action\u001b[49m\u001b[43m,\u001b[49m\u001b[43m \u001b[49m\u001b[43mreturn_type\u001b[49m\u001b[43m)\u001b[49m\n\u001b[0;32m    311\u001b[0m \u001b[38;5;28;01mif\u001b[39;00m lhs\u001b[38;5;241m.\u001b[39mshape[\u001b[38;5;241m1\u001b[39m] \u001b[38;5;241m==\u001b[39m \u001b[38;5;241m0\u001b[39m:\n\u001b[0;32m    312\u001b[0m     \u001b[38;5;28;01mraise\u001b[39;00m PatsyError(\u001b[38;5;124m\"\u001b[39m\u001b[38;5;124mmodel is missing required outcome variables\u001b[39m\u001b[38;5;124m\"\u001b[39m)\n",
      "File \u001b[1;32m~\\miniconda3\\lib\\site-packages\\patsy\\highlevel.py:164\u001b[0m, in \u001b[0;36m_do_highlevel_design\u001b[1;34m(formula_like, data, eval_env, NA_action, return_type)\u001b[0m\n\u001b[0;32m    162\u001b[0m \u001b[38;5;28;01mdef\u001b[39;00m \u001b[38;5;21mdata_iter_maker\u001b[39m():\n\u001b[0;32m    163\u001b[0m     \u001b[38;5;28;01mreturn\u001b[39;00m \u001b[38;5;28miter\u001b[39m([data])\n\u001b[1;32m--> 164\u001b[0m design_infos \u001b[38;5;241m=\u001b[39m \u001b[43m_try_incr_builders\u001b[49m\u001b[43m(\u001b[49m\u001b[43mformula_like\u001b[49m\u001b[43m,\u001b[49m\u001b[43m \u001b[49m\u001b[43mdata_iter_maker\u001b[49m\u001b[43m,\u001b[49m\u001b[43m \u001b[49m\u001b[43meval_env\u001b[49m\u001b[43m,\u001b[49m\n\u001b[0;32m    165\u001b[0m \u001b[43m                                  \u001b[49m\u001b[43mNA_action\u001b[49m\u001b[43m)\u001b[49m\n\u001b[0;32m    166\u001b[0m \u001b[38;5;28;01mif\u001b[39;00m design_infos \u001b[38;5;129;01mis\u001b[39;00m \u001b[38;5;129;01mnot\u001b[39;00m \u001b[38;5;28;01mNone\u001b[39;00m:\n\u001b[0;32m    167\u001b[0m     \u001b[38;5;28;01mreturn\u001b[39;00m build_design_matrices(design_infos, data,\n\u001b[0;32m    168\u001b[0m                                  NA_action\u001b[38;5;241m=\u001b[39mNA_action,\n\u001b[0;32m    169\u001b[0m                                  return_type\u001b[38;5;241m=\u001b[39mreturn_type)\n",
      "File \u001b[1;32m~\\miniconda3\\lib\\site-packages\\patsy\\highlevel.py:66\u001b[0m, in \u001b[0;36m_try_incr_builders\u001b[1;34m(formula_like, data_iter_maker, eval_env, NA_action)\u001b[0m\n\u001b[0;32m     64\u001b[0m \u001b[38;5;28;01mif\u001b[39;00m \u001b[38;5;28misinstance\u001b[39m(formula_like, ModelDesc):\n\u001b[0;32m     65\u001b[0m     \u001b[38;5;28;01massert\u001b[39;00m \u001b[38;5;28misinstance\u001b[39m(eval_env, EvalEnvironment)\n\u001b[1;32m---> 66\u001b[0m     \u001b[38;5;28;01mreturn\u001b[39;00m \u001b[43mdesign_matrix_builders\u001b[49m\u001b[43m(\u001b[49m\u001b[43m[\u001b[49m\u001b[43mformula_like\u001b[49m\u001b[38;5;241;43m.\u001b[39;49m\u001b[43mlhs_termlist\u001b[49m\u001b[43m,\u001b[49m\n\u001b[0;32m     67\u001b[0m \u001b[43m                                   \u001b[49m\u001b[43mformula_like\u001b[49m\u001b[38;5;241;43m.\u001b[39;49m\u001b[43mrhs_termlist\u001b[49m\u001b[43m]\u001b[49m\u001b[43m,\u001b[49m\n\u001b[0;32m     68\u001b[0m \u001b[43m                                  \u001b[49m\u001b[43mdata_iter_maker\u001b[49m\u001b[43m,\u001b[49m\n\u001b[0;32m     69\u001b[0m \u001b[43m                                  \u001b[49m\u001b[43meval_env\u001b[49m\u001b[43m,\u001b[49m\n\u001b[0;32m     70\u001b[0m \u001b[43m                                  \u001b[49m\u001b[43mNA_action\u001b[49m\u001b[43m)\u001b[49m\n\u001b[0;32m     71\u001b[0m \u001b[38;5;28;01melse\u001b[39;00m:\n\u001b[0;32m     72\u001b[0m     \u001b[38;5;28;01mreturn\u001b[39;00m \u001b[38;5;28;01mNone\u001b[39;00m\n",
      "File \u001b[1;32m~\\miniconda3\\lib\\site-packages\\patsy\\build.py:693\u001b[0m, in \u001b[0;36mdesign_matrix_builders\u001b[1;34m(termlists, data_iter_maker, eval_env, NA_action)\u001b[0m\n\u001b[0;32m    689\u001b[0m factor_states \u001b[38;5;241m=\u001b[39m _factors_memorize(all_factors, data_iter_maker, eval_env)\n\u001b[0;32m    690\u001b[0m \u001b[38;5;66;03m# Now all the factors have working eval methods, so we can evaluate them\u001b[39;00m\n\u001b[0;32m    691\u001b[0m \u001b[38;5;66;03m# on some data to find out what type of data they return.\u001b[39;00m\n\u001b[0;32m    692\u001b[0m (num_column_counts,\n\u001b[1;32m--> 693\u001b[0m  cat_levels_contrasts) \u001b[38;5;241m=\u001b[39m \u001b[43m_examine_factor_types\u001b[49m\u001b[43m(\u001b[49m\u001b[43mall_factors\u001b[49m\u001b[43m,\u001b[49m\n\u001b[0;32m    694\u001b[0m \u001b[43m                                               \u001b[49m\u001b[43mfactor_states\u001b[49m\u001b[43m,\u001b[49m\n\u001b[0;32m    695\u001b[0m \u001b[43m                                               \u001b[49m\u001b[43mdata_iter_maker\u001b[49m\u001b[43m,\u001b[49m\n\u001b[0;32m    696\u001b[0m \u001b[43m                                               \u001b[49m\u001b[43mNA_action\u001b[49m\u001b[43m)\u001b[49m\n\u001b[0;32m    697\u001b[0m \u001b[38;5;66;03m# Now we need the factor infos, which encapsulate the knowledge of\u001b[39;00m\n\u001b[0;32m    698\u001b[0m \u001b[38;5;66;03m# how to turn any given factor into a chunk of data:\u001b[39;00m\n\u001b[0;32m    699\u001b[0m factor_infos \u001b[38;5;241m=\u001b[39m {}\n",
      "File \u001b[1;32m~\\miniconda3\\lib\\site-packages\\patsy\\build.py:448\u001b[0m, in \u001b[0;36m_examine_factor_types\u001b[1;34m(factors, factor_states, data_iter_maker, NA_action)\u001b[0m\n\u001b[0;32m    445\u001b[0m \u001b[38;5;28;01mif\u001b[39;00m factor \u001b[38;5;129;01mnot\u001b[39;00m \u001b[38;5;129;01min\u001b[39;00m cat_sniffers:\n\u001b[0;32m    446\u001b[0m     cat_sniffers[factor] \u001b[38;5;241m=\u001b[39m CategoricalSniffer(NA_action,\n\u001b[0;32m    447\u001b[0m                                               factor\u001b[38;5;241m.\u001b[39morigin)\n\u001b[1;32m--> 448\u001b[0m done \u001b[38;5;241m=\u001b[39m \u001b[43mcat_sniffers\u001b[49m\u001b[43m[\u001b[49m\u001b[43mfactor\u001b[49m\u001b[43m]\u001b[49m\u001b[38;5;241;43m.\u001b[39;49m\u001b[43msniff\u001b[49m\u001b[43m(\u001b[49m\u001b[43mvalue\u001b[49m\u001b[43m)\u001b[49m\n\u001b[0;32m    449\u001b[0m \u001b[38;5;28;01mif\u001b[39;00m done:\n\u001b[0;32m    450\u001b[0m     examine_needed\u001b[38;5;241m.\u001b[39mremove(factor)\n",
      "File \u001b[1;32m~\\miniconda3\\lib\\site-packages\\patsy\\categorical.py:198\u001b[0m, in \u001b[0;36mCategoricalSniffer.sniff\u001b[1;34m(self, data)\u001b[0m\n\u001b[0;32m    195\u001b[0m     \u001b[38;5;28;01mreturn\u001b[39;00m \u001b[38;5;28;01mTrue\u001b[39;00m\n\u001b[0;32m    196\u001b[0m \u001b[38;5;66;03m# fastpath to avoid doing an item-by-item iteration over boolean\u001b[39;00m\n\u001b[0;32m    197\u001b[0m \u001b[38;5;66;03m# arrays, as requested by #44\u001b[39;00m\n\u001b[1;32m--> 198\u001b[0m \u001b[38;5;28;01mif\u001b[39;00m \u001b[38;5;28mhasattr\u001b[39m(data, \u001b[38;5;124m\"\u001b[39m\u001b[38;5;124mdtype\u001b[39m\u001b[38;5;124m\"\u001b[39m) \u001b[38;5;129;01mand\u001b[39;00m \u001b[43msafe_issubdtype\u001b[49m\u001b[43m(\u001b[49m\u001b[43mdata\u001b[49m\u001b[38;5;241;43m.\u001b[39;49m\u001b[43mdtype\u001b[49m\u001b[43m,\u001b[49m\u001b[43m \u001b[49m\u001b[43mnp\u001b[49m\u001b[38;5;241;43m.\u001b[39;49m\u001b[43mbool_\u001b[49m\u001b[43m)\u001b[49m:\n\u001b[0;32m    199\u001b[0m     \u001b[38;5;28mself\u001b[39m\u001b[38;5;241m.\u001b[39m_level_set \u001b[38;5;241m=\u001b[39m \u001b[38;5;28mset\u001b[39m([\u001b[38;5;28;01mTrue\u001b[39;00m, \u001b[38;5;28;01mFalse\u001b[39;00m])\n\u001b[0;32m    200\u001b[0m     \u001b[38;5;28;01mreturn\u001b[39;00m \u001b[38;5;28;01mTrue\u001b[39;00m\n",
      "File \u001b[1;32m~\\miniconda3\\lib\\site-packages\\patsy\\util.py:710\u001b[0m, in \u001b[0;36msafe_issubdtype\u001b[1;34m(dt1, dt2)\u001b[0m\n\u001b[0;32m    708\u001b[0m \u001b[38;5;28;01mif\u001b[39;00m safe_is_pandas_categorical_dtype(dt1):\n\u001b[0;32m    709\u001b[0m     \u001b[38;5;28;01mreturn\u001b[39;00m \u001b[38;5;28;01mFalse\u001b[39;00m\n\u001b[1;32m--> 710\u001b[0m \u001b[38;5;28;01mreturn\u001b[39;00m \u001b[43mnp\u001b[49m\u001b[38;5;241;43m.\u001b[39;49m\u001b[43missubdtype\u001b[49m\u001b[43m(\u001b[49m\u001b[43mdt1\u001b[49m\u001b[43m,\u001b[49m\u001b[43m \u001b[49m\u001b[43mdt2\u001b[49m\u001b[43m)\u001b[49m\n",
      "File \u001b[1;32m~\\miniconda3\\lib\\site-packages\\numpy\\core\\numerictypes.py:416\u001b[0m, in \u001b[0;36missubdtype\u001b[1;34m(arg1, arg2)\u001b[0m\n\u001b[0;32m    358\u001b[0m \u001b[38;5;124mr\u001b[39m\u001b[38;5;124;03m\"\"\"\u001b[39;00m\n\u001b[0;32m    359\u001b[0m \u001b[38;5;124;03mReturns True if first argument is a typecode lower/equal in type hierarchy.\u001b[39;00m\n\u001b[0;32m    360\u001b[0m \n\u001b[1;32m   (...)\u001b[0m\n\u001b[0;32m    413\u001b[0m \n\u001b[0;32m    414\u001b[0m \u001b[38;5;124;03m\"\"\"\u001b[39;00m\n\u001b[0;32m    415\u001b[0m \u001b[38;5;28;01mif\u001b[39;00m \u001b[38;5;129;01mnot\u001b[39;00m issubclass_(arg1, generic):\n\u001b[1;32m--> 416\u001b[0m     arg1 \u001b[38;5;241m=\u001b[39m \u001b[43mdtype\u001b[49m\u001b[43m(\u001b[49m\u001b[43marg1\u001b[49m\u001b[43m)\u001b[49m\u001b[38;5;241m.\u001b[39mtype\n\u001b[0;32m    417\u001b[0m \u001b[38;5;28;01mif\u001b[39;00m \u001b[38;5;129;01mnot\u001b[39;00m issubclass_(arg2, generic):\n\u001b[0;32m    418\u001b[0m     arg2 \u001b[38;5;241m=\u001b[39m dtype(arg2)\u001b[38;5;241m.\u001b[39mtype\n",
      "\u001b[1;31mTypeError\u001b[0m: Cannot interpret 'string[python]' as a data type"
     ]
    }
   ],
   "source": [
    "#%% One way ANOVA\n",
    "model = ols('temperatura ~ estacion_simaj', data=sample_data).fit()\n",
    "#anova_table = sm.stats.anova_lm(model,typ=2)\n",
    "#print(anova_table)"
   ]
  },
  {
   "cell_type": "markdown",
   "id": "dd75375b",
   "metadata": {},
   "source": [
    "### Pruebas poshoc"
   ]
  },
  {
   "cell_type": "code",
   "execution_count": 26,
   "id": "9fc0bdc6",
   "metadata": {},
   "outputs": [
    {
     "name": "stdout",
     "output_type": "stream",
     "text": [
      "    Multiple Comparison of Means - Tukey HSD, FWER=0.05     \n",
      "============================================================\n",
      "  group1     group2   meandiff p-adj   lower   upper  reject\n",
      "------------------------------------------------------------\n",
      "   Aguilas   Atemajac  -0.8355 0.5195 -2.1374  0.4664  False\n",
      "   Aguilas     Centro  -1.8662    0.0 -2.1121 -1.6202   True\n",
      "   Aguilas Las Pintas  -2.8215    0.0 -3.0677 -2.5753   True\n",
      "   Aguilas  Miravalle    0.013    1.0 -0.2372  0.2633  False\n",
      "   Aguilas    Oblatos   1.8645    0.0  1.5915  2.1376   True\n",
      "   Aguilas   Santa Fe   0.2982 0.0205  0.0258  0.5707   True\n",
      "   Aguilas   Vallarta  -0.8893    0.0 -1.1365 -0.6421   True\n",
      "  Atemajac     Centro  -1.0307 0.2398 -2.3308  0.2695  False\n",
      "  Atemajac Las Pintas   -1.986 0.0001 -3.2862 -0.6858   True\n",
      "  Atemajac  Miravalle   0.8485 0.4976 -0.4525  2.1495  False\n",
      "  Atemajac    Oblatos      2.7    0.0  1.3945  4.0056   True\n",
      "  Atemajac   Santa Fe   1.1337 0.1443 -0.1717  2.4392  False\n",
      "  Atemajac   Vallarta  -0.0538    1.0 -1.3542  1.2466  False\n",
      "    Centro Las Pintas  -0.9553    0.0 -1.1924 -0.7183   True\n",
      "    Centro  Miravalle   1.8792    0.0  1.6379  2.1205   True\n",
      "    Centro    Oblatos   3.7307    0.0  3.4659  3.9955   True\n",
      "    Centro   Santa Fe   2.1644    0.0  1.9002  2.4286   True\n",
      "    Centro   Vallarta   0.9769    0.0  0.7388  1.2149   True\n",
      "Las Pintas  Miravalle   2.8345    0.0   2.593  3.0761   True\n",
      "Las Pintas    Oblatos    4.686    0.0   4.421  4.9511   True\n",
      "Las Pintas   Santa Fe   3.1197    0.0  2.8553  3.3842   True\n",
      "Las Pintas   Vallarta   1.9322    0.0  1.6939  2.1705   True\n",
      " Miravalle    Oblatos   1.8515    0.0  1.5827  2.1203   True\n",
      " Miravalle   Santa Fe   0.2852 0.0279  0.0169  0.5534   True\n",
      " Miravalle   Vallarta  -0.9024    0.0 -1.1449 -0.6598   True\n",
      "   Oblatos   Santa Fe  -1.5663    0.0 -1.8559 -1.2767   True\n",
      "   Oblatos   Vallarta  -2.7539    0.0 -3.0198 -2.4879   True\n",
      "  Santa Fe   Vallarta  -1.1875    0.0 -1.4529 -0.9222   True\n",
      "------------------------------------------------------------\n"
     ]
    }
   ],
   "source": [
    "#%%Comparación múltiple Prueba de Tukey\n",
    "comp = mc.MultiComparison(sample_data['temperatura'],sample_data['estacion_simaj'])\n",
    "post_hoc_res = comp.tukeyhsd()\n",
    "print(post_hoc_res.summary())"
   ]
  },
  {
   "cell_type": "markdown",
   "id": "26e76f7d",
   "metadata": {},
   "source": [
    "### Two-ways ANOVA"
   ]
  },
  {
   "cell_type": "code",
   "execution_count": null,
   "id": "91d8ba1b",
   "metadata": {},
   "outputs": [],
   "source": [
    "#Ho:m1=m2=m3+.... (p>0.05)\n",
    "#H1: mi dif mj (p<0.05)\n",
    "model =ols('salary ~ major + gender ', data=sample_data).fit()\n",
    "anova_table = sm.stats.anova_lm(model,typ=2)\n",
    "print(anova_table)\n",
    "\n",
    "#variables independientes: \"major\" y \"gender\""
   ]
  },
  {
   "cell_type": "code",
   "execution_count": null,
   "id": "3e52b7aa",
   "metadata": {},
   "outputs": [],
   "source": [
    "#%% Interacción entre variables\n",
    "model =ols('salary ~ major:gender', data=sample_data).fit()\n",
    "anova_table = sm.stats.anova_lm(model,typ=2)\n",
    "print(anova_table)\n",
    "\n",
    "#si quieres conocer la interacción entre variables, debemos hacer esta forma y no la anterior"
   ]
  },
  {
   "cell_type": "code",
   "execution_count": null,
   "id": "1e9e91bb",
   "metadata": {},
   "outputs": [],
   "source": [
    "#%% Prueba de Tukey (HSD)\n",
    "interaction_groups = \"Major\" + sample_data.major.astype(str) + \" & \" + \"Gender\" + sample_data.gender.astype(str)\n",
    "comp = mc.MultiComparison(sample_data[\"salary\"], interaction_groups)\n",
    "post_hoc_res = comp.tukeyhsd()\n",
    "print(post_hoc_res.summary())"
   ]
  },
  {
   "cell_type": "markdown",
   "id": "12c37b47",
   "metadata": {},
   "source": [
    "### Pruebas no paramétricas"
   ]
  },
  {
   "cell_type": "code",
   "execution_count": null,
   "id": "1df5e594",
   "metadata": {},
   "outputs": [],
   "source": [
    "#Kruskal Wallis\n",
    "from scipy import stats\n",
    "import scikit_posthocs as sp"
   ]
  },
  {
   "cell_type": "code",
   "execution_count": null,
   "id": "10cb18f0",
   "metadata": {},
   "outputs": [],
   "source": [
    "group1=np.array(sample_PS['salary'])\n",
    "group2=np.array(sample_EF['salary'])\n",
    "group3=np.array(sample_ES['salary'])\n",
    "group4=np.array(sample_MS['salary'])\n",
    "group5=np.array(sample_B['salary'])\n",
    "group6=np.array(sample_SS['salary'])"
   ]
  },
  {
   "cell_type": "code",
   "execution_count": null,
   "id": "3af5a9cd",
   "metadata": {},
   "outputs": [],
   "source": [
    "stats.kruskal(group1, group2, group3, group4,group5,group6)"
   ]
  },
  {
   "cell_type": "code",
   "execution_count": null,
   "id": "08b667af",
   "metadata": {},
   "outputs": [],
   "source": [
    "x=np.array([group1, group2, group3,group4,group5,group6])\n",
    "pht=sp.posthoc_conover(x, p_adjust='bonferroni')"
   ]
  }
 ],
 "metadata": {
  "kernelspec": {
   "display_name": "Python 3 (ipykernel)",
   "language": "python",
   "name": "python3"
  },
  "language_info": {
   "codemirror_mode": {
    "name": "ipython",
    "version": 3
   },
   "file_extension": ".py",
   "mimetype": "text/x-python",
   "name": "python",
   "nbconvert_exporter": "python",
   "pygments_lexer": "ipython3",
   "version": "3.8.13"
  }
 },
 "nbformat": 4,
 "nbformat_minor": 5
}
